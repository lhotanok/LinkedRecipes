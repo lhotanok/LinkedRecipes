{
 "cells": [
  {
   "cell_type": "code",
   "execution_count": 5,
   "metadata": {},
   "outputs": [],
   "source": [
    "import pandas as pd\n",
    "\n",
    "recipes = pd.read_json ('./datasets/bbc_recipes.json')\n",
    "items = []\n",
    "page = recipes['page']\n",
    "\n",
    "for index, row in recipes.iterrows():\n",
    "    page = row['page']\n",
    "\n",
    "    item = {}\n",
    "\n",
    "    article = page['article']\n",
    "    recipe = page['recipe']\n",
    "\n",
    "    item['id'] = article['id']\n",
    "    item['title'] = page['title']\n",
    "    item['author'] = article['author']\n",
    "    item['description'] = article['description']\n",
    "    item['prepTime'] = recipe['prep_time']\n",
    "    item['cookingTime'] = recipe['cooking_time']\n",
    "    item['serves'] = recipe['serves']\n",
    "    item['keywords'] = recipe['keywords']\n",
    "    item['ratings'] = recipe['ratings']\n",
    "    item['nutritionInfo'] = recipe['nutrition_info']\n",
    "    item['ingredients'] = recipe['ingredients']\n",
    "    item['courses'] = recipe['courses']\n",
    "    item['cusine'] = recipe['cusine']\n",
    "    item['dietTypes'] = recipe['diet_types']\n",
    "    item['skillLevel'] = recipe['skill_level']\n",
    "\n",
    "    items.append(item)\n",
    "\n",
    "df = pd. DataFrame(items)\n",
    "df.to_csv('./datasets/bbc_recipes.csv')"
   ]
  }
 ],
 "metadata": {
  "interpreter": {
   "hash": "3a6c0fe97a97a881400c14ee6d6db89d27692ebbe9818fe97b67efa12055371e"
  },
  "kernelspec": {
   "display_name": "Python 3.9.7 64-bit ('venv': venv)",
   "name": "python3"
  },
  "language_info": {
   "codemirror_mode": {
    "name": "ipython",
    "version": 3
   },
   "file_extension": ".py",
   "mimetype": "text/x-python",
   "name": "python",
   "nbconvert_exporter": "python",
   "pygments_lexer": "ipython3",
   "version": "3.9.7"
  },
  "orig_nbformat": 2
 },
 "nbformat": 4,
 "nbformat_minor": 2
}
